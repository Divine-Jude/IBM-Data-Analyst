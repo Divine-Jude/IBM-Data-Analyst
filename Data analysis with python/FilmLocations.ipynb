{
 "cells": [
  {
   "cell_type": "markdown",
   "id": "af8972a7-f676-4417-825c-4af992324885",
   "metadata": {},
   "source": [
    "## **Loading Data from Website**"
   ]
  },
  {
   "cell_type": "code",
   "execution_count": 92,
   "id": "176bd765-5038-4a08-bd48-6ea91dd6891b",
   "metadata": {},
   "outputs": [
    {
     "name": "stdout",
     "output_type": "stream",
     "text": [
      "Requirement already satisfied: xlrd in c:\\users\\hi\\anaconda3\\lib\\site-packages (2.0.1)\n",
      "Requirement already satisfied: bs4 in c:\\users\\hi\\anaconda3\\lib\\site-packages (0.0.1)\n",
      "Requirement already satisfied: beautifulsoup4 in c:\\users\\hi\\anaconda3\\lib\\site-packages (from bs4) (4.11.1)\n",
      "Requirement already satisfied: soupsieve>1.2 in c:\\users\\hi\\anaconda3\\lib\\site-packages (from beautifulsoup4->bs4) (2.3.1)\n",
      "Requirement already satisfied: lxml in c:\\users\\hi\\anaconda3\\lib\\site-packages (4.6.4)\n",
      "Requirement already satisfied: html5lib in c:\\users\\hi\\anaconda3\\lib\\site-packages (1.1)\n",
      "Requirement already satisfied: webencodings in c:\\users\\hi\\anaconda3\\lib\\site-packages (from html5lib) (0.5.1)\n",
      "Requirement already satisfied: six>=1.9 in c:\\users\\hi\\anaconda3\\lib\\site-packages (from html5lib) (1.16.0)\n",
      "Requirement already satisfied: requests in c:\\users\\hi\\anaconda3\\lib\\site-packages (2.27.1)\n",
      "Requirement already satisfied: charset-normalizer~=2.0.0 in c:\\users\\hi\\anaconda3\\lib\\site-packages (from requests) (2.0.4)\n",
      "Requirement already satisfied: certifi>=2017.4.17 in c:\\users\\hi\\anaconda3\\lib\\site-packages (from requests) (2021.10.8)\n",
      "Requirement already satisfied: idna<4,>=2.5 in c:\\users\\hi\\anaconda3\\lib\\site-packages (from requests) (3.3)\n",
      "Requirement already satisfied: urllib3<1.27,>=1.21.1 in c:\\users\\hi\\anaconda3\\lib\\site-packages (from requests) (1.26.9)\n"
     ]
    }
   ],
   "source": [
    "!pip install xlrd\n",
    "!pip install bs4\n",
    "!pip install lxml\n",
    "!pip install html5lib\n",
    "!pip install requests\n"
   ]
  },
  {
   "cell_type": "code",
   "execution_count": 93,
   "id": "747ca1d5-e7fc-4c3a-ae38-e449245fc23b",
   "metadata": {},
   "outputs": [],
   "source": [
    "import pandas as pd\n",
    "from bs4 import BeautifulSoup # this module helps in web scrapping.\n",
    "import requests  # this module helps us to download a web page\n",
    "import pyarrow.csv as pv\n",
    "import pyarrow.parquet as pq"
   ]
  },
  {
   "cell_type": "code",
   "execution_count": 94,
   "id": "ec395c3a-6e18-42bc-8d19-be8a10c59e7c",
   "metadata": {},
   "outputs": [
    {
     "data": {
      "text/plain": [
       "'https://data.sfgov.org/api/views/yitu-d5am/rows.csv?accessType=DOWNLOAD'"
      ]
     },
     "execution_count": 94,
     "metadata": {},
     "output_type": "execute_result"
    }
   ],
   "source": [
    "csv_path = 'https://data.sfgov.org/api/views/yitu-d5am/rows.csv?accessType=DOWNLOAD'\n",
    "csv_path"
   ]
  },
  {
   "cell_type": "code",
   "execution_count": 95,
   "id": "24650d55-56b8-459b-bbed-42cb631d1aa1",
   "metadata": {},
   "outputs": [
    {
     "data": {
      "text/html": [
       "<div>\n",
       "<style scoped>\n",
       "    .dataframe tbody tr th:only-of-type {\n",
       "        vertical-align: middle;\n",
       "    }\n",
       "\n",
       "    .dataframe tbody tr th {\n",
       "        vertical-align: top;\n",
       "    }\n",
       "\n",
       "    .dataframe thead th {\n",
       "        text-align: right;\n",
       "    }\n",
       "</style>\n",
       "<table border=\"1\" class=\"dataframe\">\n",
       "  <thead>\n",
       "    <tr style=\"text-align: right;\">\n",
       "      <th></th>\n",
       "      <th>Title</th>\n",
       "      <th>Release Year</th>\n",
       "      <th>Locations</th>\n",
       "      <th>Fun Facts</th>\n",
       "      <th>Production Company</th>\n",
       "      <th>Distributor</th>\n",
       "      <th>Director</th>\n",
       "      <th>Writer</th>\n",
       "      <th>Actor 1</th>\n",
       "      <th>Actor 2</th>\n",
       "      <th>Actor 3</th>\n",
       "    </tr>\n",
       "  </thead>\n",
       "  <tbody>\n",
       "    <tr>\n",
       "      <th>0</th>\n",
       "      <td>A Jitney Elopement</td>\n",
       "      <td>1915</td>\n",
       "      <td>20th and Folsom Streets</td>\n",
       "      <td>NaN</td>\n",
       "      <td>The Essanay Film Manufacturing Company</td>\n",
       "      <td>General Film Company</td>\n",
       "      <td>Charles Chaplin</td>\n",
       "      <td>Charles Chaplin</td>\n",
       "      <td>Charles Chaplin</td>\n",
       "      <td>Edna Purviance</td>\n",
       "      <td>NaN</td>\n",
       "    </tr>\n",
       "    <tr>\n",
       "      <th>1</th>\n",
       "      <td>A Jitney Elopement</td>\n",
       "      <td>1915</td>\n",
       "      <td>Golden Gate Park</td>\n",
       "      <td>During San Francisco's Gold Rush era, the Park...</td>\n",
       "      <td>The Essanay Film Manufacturing Company</td>\n",
       "      <td>General Film Company</td>\n",
       "      <td>Charles Chaplin</td>\n",
       "      <td>Charles Chaplin</td>\n",
       "      <td>Charles Chaplin</td>\n",
       "      <td>Edna Purviance</td>\n",
       "      <td>NaN</td>\n",
       "    </tr>\n",
       "    <tr>\n",
       "      <th>2</th>\n",
       "      <td>Greed</td>\n",
       "      <td>1924</td>\n",
       "      <td>Cliff House (1090 Point Lobos Avenue)</td>\n",
       "      <td>In 1887, the Cliff House was severely damaged ...</td>\n",
       "      <td>Metro-Goldwyn-Mayer (MGM)</td>\n",
       "      <td>Metro-Goldwyn-Mayer (MGM)</td>\n",
       "      <td>Eric von Stroheim</td>\n",
       "      <td>Eric von Stroheim</td>\n",
       "      <td>Zasu Pitts</td>\n",
       "      <td>Gibson Gowland</td>\n",
       "      <td>Jean Hersholt</td>\n",
       "    </tr>\n",
       "    <tr>\n",
       "      <th>3</th>\n",
       "      <td>Greed</td>\n",
       "      <td>1924</td>\n",
       "      <td>Bush and Sutter Streets</td>\n",
       "      <td>NaN</td>\n",
       "      <td>Metro-Goldwyn-Mayer (MGM)</td>\n",
       "      <td>Metro-Goldwyn-Mayer (MGM)</td>\n",
       "      <td>Eric von Stroheim</td>\n",
       "      <td>Eric von Stroheim</td>\n",
       "      <td>Zasu Pitts</td>\n",
       "      <td>Gibson Gowland</td>\n",
       "      <td>Jean Hersholt</td>\n",
       "    </tr>\n",
       "    <tr>\n",
       "      <th>4</th>\n",
       "      <td>Greed</td>\n",
       "      <td>1924</td>\n",
       "      <td>Hayes Street at Laguna</td>\n",
       "      <td>NaN</td>\n",
       "      <td>Metro-Goldwyn-Mayer (MGM)</td>\n",
       "      <td>Metro-Goldwyn-Mayer (MGM)</td>\n",
       "      <td>Eric von Stroheim</td>\n",
       "      <td>Eric von Stroheim</td>\n",
       "      <td>Zasu Pitts</td>\n",
       "      <td>Gibson Gowland</td>\n",
       "      <td>Jean Hersholt</td>\n",
       "    </tr>\n",
       "  </tbody>\n",
       "</table>\n",
       "</div>"
      ],
      "text/plain": [
       "                Title  Release Year                              Locations  \\\n",
       "0  A Jitney Elopement          1915                20th and Folsom Streets   \n",
       "1  A Jitney Elopement          1915                       Golden Gate Park   \n",
       "2               Greed          1924  Cliff House (1090 Point Lobos Avenue)   \n",
       "3               Greed          1924                Bush and Sutter Streets   \n",
       "4               Greed          1924                 Hayes Street at Laguna   \n",
       "\n",
       "                                           Fun Facts  \\\n",
       "0                                                NaN   \n",
       "1  During San Francisco's Gold Rush era, the Park...   \n",
       "2  In 1887, the Cliff House was severely damaged ...   \n",
       "3                                                NaN   \n",
       "4                                                NaN   \n",
       "\n",
       "                       Production Company                Distributor  \\\n",
       "0  The Essanay Film Manufacturing Company       General Film Company   \n",
       "1  The Essanay Film Manufacturing Company       General Film Company   \n",
       "2               Metro-Goldwyn-Mayer (MGM)  Metro-Goldwyn-Mayer (MGM)   \n",
       "3               Metro-Goldwyn-Mayer (MGM)  Metro-Goldwyn-Mayer (MGM)   \n",
       "4               Metro-Goldwyn-Mayer (MGM)  Metro-Goldwyn-Mayer (MGM)   \n",
       "\n",
       "            Director             Writer          Actor 1         Actor 2  \\\n",
       "0    Charles Chaplin    Charles Chaplin  Charles Chaplin  Edna Purviance   \n",
       "1    Charles Chaplin    Charles Chaplin  Charles Chaplin  Edna Purviance   \n",
       "2  Eric von Stroheim  Eric von Stroheim       Zasu Pitts  Gibson Gowland   \n",
       "3  Eric von Stroheim  Eric von Stroheim       Zasu Pitts  Gibson Gowland   \n",
       "4  Eric von Stroheim  Eric von Stroheim       Zasu Pitts  Gibson Gowland   \n",
       "\n",
       "         Actor 3  \n",
       "0            NaN  \n",
       "1            NaN  \n",
       "2  Jean Hersholt  \n",
       "3  Jean Hersholt  \n",
       "4  Jean Hersholt  "
      ]
     },
     "execution_count": 95,
     "metadata": {},
     "output_type": "execute_result"
    }
   ],
   "source": [
    "df = pd.read_csv(csv_path)\n",
    "\n",
    "df.head()"
   ]
  },
  {
   "cell_type": "markdown",
   "id": "f8be4dce-d625-4173-8617-0fba784a17ac",
   "metadata": {},
   "source": [
    "## **Loading a File from my Local Computer**"
   ]
  },
  {
   "cell_type": "code",
   "execution_count": 96,
   "id": "a97b9ae4-3743-4328-99cc-5cba40123b86",
   "metadata": {},
   "outputs": [
    {
     "data": {
      "text/plain": [
       "'C:\\\\Users\\\\HI\\\\Downloads\\\\Film_Locations_in_San_Francisco.csv'"
      ]
     },
     "execution_count": 96,
     "metadata": {},
     "output_type": "execute_result"
    }
   ],
   "source": [
    "url = r\"C:\\Users\\HI\\Downloads\\Film_Locations_in_San_Francisco.csv\"\n",
    "url"
   ]
  },
  {
   "cell_type": "code",
   "execution_count": 98,
   "id": "bd37f1f7-666c-4728-a64c-606b3eb7ab79",
   "metadata": {},
   "outputs": [],
   "source": [
    "# df = pd.read_csv('Film_Locations_in_San_Francisco.csv')\n",
    "# x = df.to_parquet('output.parquet')\n",
    "\n",
    "# print(\"file converted successfully\", x)"
   ]
  },
  {
   "cell_type": "markdown",
   "id": "9ebbaa85-7318-471e-b509-0c41aff64ef3",
   "metadata": {},
   "source": [
    "OR you can use this code \n"
   ]
  },
  {
   "cell_type": "code",
   "execution_count": 76,
   "id": "c9ae47bb-2a0d-43aa-ac9c-6a664e6758b7",
   "metadata": {},
   "outputs": [],
   "source": [
    "# table = pv.read_csv(filename)\n",
    "# pq.write_table(table, filename.replace('csv', 'parquet'))"
   ]
  },
  {
   "cell_type": "code",
   "execution_count": 85,
   "id": "dabbd858-45b3-47d2-bc5b-98a89502310a",
   "metadata": {},
   "outputs": [
    {
     "data": {
      "text/plain": [
       "'https://data.sfgov.org/Culture-and-Recreation/Film-Locations-in-San-Francisco/yitu-d5am'"
      ]
     },
     "execution_count": 85,
     "metadata": {},
     "output_type": "execute_result"
    }
   ],
   "source": [
    "url= \"https://data.sfgov.org/Culture-and-Recreation/Film-Locations-in-San-Francisco/yitu-d5am\"\n",
    "url\n"
   ]
  },
  {
   "cell_type": "code",
   "execution_count": 86,
   "id": "3340ab0e-e6db-4be0-ac6a-d8e94ce72b74",
   "metadata": {},
   "outputs": [],
   "source": [
    "data = requests.get(url).text"
   ]
  },
  {
   "cell_type": "code",
   "execution_count": 87,
   "id": "adbfb15f-3ab6-49d2-895e-9ea0ea6ba802",
   "metadata": {},
   "outputs": [],
   "source": [
    "soup = BeautifulSoup(data, 'html.parser')"
   ]
  },
  {
   "cell_type": "code",
   "execution_count": 88,
   "id": "e209c6bd-7920-4830-a64d-1fc290aaf6d0",
   "metadata": {},
   "outputs": [],
   "source": [
    "# find all html tables in the web page\n",
    "\n",
    "tables = soup.find_all('table')  # in html table is represented by the tag <table>"
   ]
  },
  {
   "cell_type": "code",
   "execution_count": 90,
   "id": "bc8075a3-8275-4db1-bd45-79037ee0351a",
   "metadata": {},
   "outputs": [
    {
     "data": {
      "text/plain": [
       "0"
      ]
     },
     "execution_count": 90,
     "metadata": {},
     "output_type": "execute_result"
    }
   ],
   "source": [
    "len(tables)"
   ]
  },
  {
   "cell_type": "code",
   "execution_count": 91,
   "id": "f343ec4a-fc92-4898-9753-c7e9ff6fc47b",
   "metadata": {},
   "outputs": [],
   "source": [
    "for index, table in enumerate(tables):\n",
    "    if \"Film Locations in San Francisco\" in str(table):\n",
    "        print(index)"
   ]
  },
  {
   "cell_type": "code",
   "execution_count": null,
   "id": "3f7cdd18-e34a-4995-a2a8-d4863fb07a6b",
   "metadata": {},
   "outputs": [],
   "source": []
  },
  {
   "cell_type": "code",
   "execution_count": null,
   "id": "68cbadc8-29fc-417d-9c1e-ea71af714fe8",
   "metadata": {},
   "outputs": [],
   "source": []
  },
  {
   "cell_type": "code",
   "execution_count": null,
   "id": "ac2c7e9b-1833-485b-bba5-e6a337f151fe",
   "metadata": {},
   "outputs": [],
   "source": []
  }
 ],
 "metadata": {
  "kernelspec": {
   "display_name": "Python 3 (ipykernel)",
   "language": "python",
   "name": "python3"
  },
  "language_info": {
   "codemirror_mode": {
    "name": "ipython",
    "version": 3
   },
   "file_extension": ".py",
   "mimetype": "text/x-python",
   "name": "python",
   "nbconvert_exporter": "python",
   "pygments_lexer": "ipython3",
   "version": "3.9.12"
  }
 },
 "nbformat": 4,
 "nbformat_minor": 5
}
